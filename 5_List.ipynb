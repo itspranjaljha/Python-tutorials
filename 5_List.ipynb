{
 "cells": [
  {
   "cell_type": "code",
   "execution_count": null,
   "metadata": {},
   "outputs": [],
   "source": [
    ">>> players = [29, 58, 66, 71, 87]\n",
    ">>> players[2]\n",
    "66\n",
    ">>> players[2] = 68\n",
    ">>> players\n",
    "[29, 58, 68, 71, 87]\n",
    ">>> players + [90, 91, 98]\n",
    "[29, 58, 68, 71, 87, 90, 91, 98]\n",
    ">>> players\n",
    "[29, 58, 68, 71, 87]\n",
    ">>> players.append(120)\n",
    ">>> players\n",
    "[29, 58, 68, 71, 87, 120]\n",
    ">>> players[:2]\n",
    "[29, 58]\n",
    ">>> players[:2] = [0, 0]\n",
    ">>> players\n",
    "[0, 0, 68, 71, 87, 120]\n",
    ">>> players[:2] = []\n",
    ">>> players\n",
    "[68, 71, 87, 120]\n",
    ">>> players[:] = []\n",
    ">>> players\n",
    "[]"
   ]
  }
 ],
 "metadata": {
  "kernelspec": {
   "display_name": "Python 3",
   "language": "python",
   "name": "python3"
  },
  "language_info": {
   "codemirror_mode": {
    "name": "ipython",
    "version": 3
   },
   "file_extension": ".py",
   "mimetype": "text/x-python",
   "name": "python",
   "nbconvert_exporter": "python",
   "pygments_lexer": "ipython3",
   "version": "3.5.2"
  }
 },
 "nbformat": 4,
 "nbformat_minor": 2
}
