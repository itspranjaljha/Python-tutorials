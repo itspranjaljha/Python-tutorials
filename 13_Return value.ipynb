{
 "cells": [
  {
   "cell_type": "code",
   "execution_count": 1,
   "metadata": {},
   "outputs": [
    {
     "name": "stdout",
     "output_type": "stream",
     "text": [
      "Bucky can date girls 18.0 or older\n",
      "Bucky can date girls 31.5 or older\n"
     ]
    }
   ],
   "source": [
    "def allowed_dating_age(my_age):\n",
    "    girls_age = (my_age/2)+7\n",
    "    return girls_age\n",
    "\n",
    "buckys_limit = allowed_dating_age(22)\n",
    "creppy_jow_limit = allowed_dating_age(49)\n",
    "print(\"Bucky can date girls\", buckys_limit,\"or older\")\n",
    "print(\"Bucky can date girls\", creppy_jow_limit,\"or older\")"
   ]
  },
  {
   "cell_type": "code",
   "execution_count": null,
   "metadata": {},
   "outputs": [],
   "source": []
  }
 ],
 "metadata": {
  "kernelspec": {
   "display_name": "Python 3",
   "language": "python",
   "name": "python3"
  },
  "language_info": {
   "codemirror_mode": {
    "name": "ipython",
    "version": 3
   },
   "file_extension": ".py",
   "mimetype": "text/x-python",
   "name": "python",
   "nbconvert_exporter": "python",
   "pygments_lexer": "ipython3",
   "version": "3.5.2"
  }
 },
 "nbformat": 4,
 "nbformat_minor": 2
}
