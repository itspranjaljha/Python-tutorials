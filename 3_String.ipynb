{
 "cells": [
  {
   "cell_type": "code",
   "execution_count": null,
   "metadata": {},
   "outputs": [],
   "source": [
    ">>> Bucky Roberts\n",
    "SyntaxError: invalid syntax\n",
    "    \n",
    ">>> \"Bucky Roberts\"\n",
    "'Bucky Roberts'\n",
    "\n",
    ">>> 'Bucky Roberts is awesome!'\n",
    "'Bucky Roberts is awesome!'\n",
    "\n",
    ">>> 'I don't think shes 18'\n",
    "SyntaxError: invalid syntax\n",
    "    \n",
    ">>> \"I don't think shes 18\"\n",
    "\"I don't think shes 18\"\n",
    "\n",
    ">>> 'She said, \"What part of the cow is the meatloaf from?\" '\n",
    "'She said, \"What part of the cow is the meatloaf from?\" '\n",
    "\n",
    ">>> 'I don\\'t think shes 18'\n",
    "\"I don't think shes 18\"\n",
    "\n",
    ">>> print(\"hey now brown cow\")\n",
    "hey now brown cow\n",
    "\n",
    ">>> print('C:\\Bucky\\Desktop\\nudePics')\n",
    "C:\\Bucky\\Desktop\n",
    "udePics\n",
    "\n",
    ">>> print(r'C:\\Bucky\\Desktop\\nudePics')\n",
    "C:\\Bucky\\Desktop\\nudePics\n",
    "    \n",
    ">>> firstName = \"Bucky \"\n",
    ">>> firstName + \"Roberts\"\n",
    "'Bucky Roberts'\n",
    "\n",
    ">>> firstName + \"McLovin\"\n",
    "'Bucky McLovin'\n",
    "\n",
    ">>> firstName * 5\n",
    "'Bucky Bucky Bucky Bucky Bucky '"
   ]
  }
 ],
 "metadata": {
  "kernelspec": {
   "display_name": "Python 3",
   "language": "python",
   "name": "python3"
  },
  "language_info": {
   "codemirror_mode": {
    "name": "ipython",
    "version": 3
   },
   "file_extension": ".py",
   "mimetype": "text/x-python",
   "name": "python",
   "nbconvert_exporter": "python",
   "pygments_lexer": "ipython3",
   "version": "3.5.2"
  }
 },
 "nbformat": 4,
 "nbformat_minor": 2
}
