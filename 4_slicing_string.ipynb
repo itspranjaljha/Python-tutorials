{
 "cells": [
  {
   "cell_type": "code",
   "execution_count": null,
   "metadata": {},
   "outputs": [],
   "source": [
    ">>> user = \"Tuna McFish\"\n",
    ">>> user[0]\n",
    "'T'\n",
    "\n",
    ">>> user[5]\n",
    "'M'\n",
    "\n",
    ">>> user[-1]\n",
    "'h'\n",
    "\n",
    ">>> user[-3]\n",
    "'i'\n",
    "\n",
    ">>> user[2:7]\n",
    "'na Mc'\n",
    "\n",
    ">>> user[:7]\n",
    "'Tuna Mc'\n",
    "\n",
    ">>> user[2:]\n",
    "'na McFish'\n",
    "\n",
    ">>> user[:]\n",
    "'Tuna McFish'\n",
    "\n",
    ">>> print('dsadasd')\n",
    "dsadasd\n",
    "\n",
    ">>> len('dfjhf22893hfsdfjkasdf')\n",
    "21\n",
    "\n",
    ">>> len(user)\n",
    "11"
   ]
  }
 ],
 "metadata": {
  "kernelspec": {
   "display_name": "Python 3",
   "language": "python",
   "name": "python3"
  },
  "language_info": {
   "codemirror_mode": {
    "name": "ipython",
    "version": 3
   },
   "file_extension": ".py",
   "mimetype": "text/x-python",
   "name": "python",
   "nbconvert_exporter": "python",
   "pygments_lexer": "ipython3",
   "version": "3.5.2"
  }
 },
 "nbformat": 4,
 "nbformat_minor": 2
}
