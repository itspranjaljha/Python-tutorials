{
 "cells": [
  {
   "cell_type": "code",
   "execution_count": null,
   "metadata": {},
   "outputs": [],
   "source": [
    "# You can try different ages and names..\n",
    "\n",
    "#age = 27\n",
    "age = 13\n",
    "\n",
    "if age < 21:\n",
    "    print(\"No beer for you!\")\n",
    "\n",
    "#name = \"Lucy\"\n",
    "name = \"Tommy D\"\n",
    "if name is \"Bucky\":\n",
    "    print(\"Hey there Bucky\")\n",
    "elif name is \"Lucy\":\n",
    "    print(\"What up Lucedawg\")\n",
    "elif name is \"Sammy\":\n",
    "    print(\"What up Slammy\")\n",
    "else:\n",
    "print(\"Please sign up for the site!\")"
   ]
  }
 ],
 "metadata": {
  "kernelspec": {
   "display_name": "Python 3",
   "language": "python",
   "name": "python3"
  },
  "language_info": {
   "codemirror_mode": {
    "name": "ipython",
    "version": 3
   },
   "file_extension": ".py",
   "mimetype": "text/x-python",
   "name": "python",
   "nbconvert_exporter": "python",
   "pygments_lexer": "ipython3",
   "version": "3.5.2"
  }
 },
 "nbformat": 4,
 "nbformat_minor": 2
}
