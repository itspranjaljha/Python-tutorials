{
 "cells": [
  {
   "cell_type": "markdown",
   "metadata": {},
   "source": [
    "# What is a Python Virtual Environment?\n",
    "\n",
    "A Python Virtual Environment - or virtualenv - is a tool to create an isolated Python environment on your Linode. This can be extremely powerful as you can create a virtual environment and install all Python executables/packages to it, leaving no dependencies outside of your created virtual environment.\n",
    "\n",
    "The purpose of this tutorial is to allow you to create and run Python virtual environments in your Ubuntu 16.10 Linode.\n",
    "Before You Begin\n",
    "\n",
    "    This guide will use sudo wherever possible. Complete the sections of our Securing Your Server to create a standard user account, harden SSH access and remove unnecessary network services.\n",
    "\n",
    "    Update your system:\n",
    "\n",
    "    sudo apt update\n",
    "\n",
    "Install Python Virtualenv\n",
    "\n",
    "    To install Python's virtual environment:\n",
    "\n",
    "    sudo apt install virtualenv\n",
    "\n",
    "Create New Directory in Home\n",
    "\n",
    "    Navigate to your users home directory:\n",
    "\n",
    "    cd\n",
    "\n",
    "    Create a directory named python-environments:\n",
    "\n",
    "    mkdir python-environments\n",
    "\n",
    "    Navigate in the newly created directory:\n",
    "\n",
    "    cd python-environments\n",
    "\n",
    "Create a Virtual Environment in Python 3\n",
    "\n",
    "    Create a virtual environment in Python 3 with the environment name of env:\n",
    "\n",
    "    virtualenv -p python3 env\n",
    "\n",
    "    Validate that environment is installed with python3:\n",
    "\n",
    "    ls env/lib\n",
    "\n",
    "Activate Environment\n",
    "\n",
    "Activate the newly created virtual environment (the name of the working environment will appear in parentheses):\n",
    "\n",
    "source env/bin/activate\n",
    "(env) testuser@localhost:~/python-environments$\n",
    "\n",
    "Now that the environment is active, you can install executables and packages only to this virtual environment.\n",
    "Deactivate Environment\n",
    "\n",
    "To deactivate an active virtual environment:\n",
    "\n",
    "deactivate\n"
   ]
  }
 ],
 "metadata": {
  "kernelspec": {
   "display_name": "Python 3",
   "language": "python",
   "name": "python3"
  },
  "language_info": {
   "codemirror_mode": {
    "name": "ipython",
    "version": 3
   },
   "file_extension": ".py",
   "mimetype": "text/x-python",
   "name": "python",
   "nbconvert_exporter": "python",
   "pygments_lexer": "ipython3",
   "version": "3.5.2"
  }
 },
 "nbformat": 4,
 "nbformat_minor": 2
}
