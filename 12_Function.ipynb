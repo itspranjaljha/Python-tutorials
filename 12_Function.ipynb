{
 "cells": [
  {
   "cell_type": "code",
   "execution_count": 1,
   "metadata": {},
   "outputs": [
    {
     "name": "stdout",
     "output_type": "stream",
     "text": [
      "Dayum, functions are cool\n",
      "2028.95\n",
      "527\n",
      "6851\n"
     ]
    }
   ],
   "source": [
    "def beef():\n",
    "    print(\"Dayum, functions are cool\")\n",
    "\n",
    "\n",
    "def bitcoin_to_usd(btc):\n",
    "    amount = btc * 527\n",
    "    print(amount)\n",
    "\n",
    "beef()\n",
    "bitcoin_to_usd(3.85)\n",
    "bitcoin_to_usd(1)\n",
    "bitcoin_to_usd(13)"
   ]
  },
  {
   "cell_type": "code",
   "execution_count": null,
   "metadata": {},
   "outputs": [],
   "source": []
  }
 ],
 "metadata": {
  "kernelspec": {
   "display_name": "Python 3",
   "language": "python",
   "name": "python3"
  },
  "language_info": {
   "codemirror_mode": {
    "name": "ipython",
    "version": 3
   },
   "file_extension": ".py",
   "mimetype": "text/x-python",
   "name": "python",
   "nbconvert_exporter": "python",
   "pygments_lexer": "ipython3",
   "version": "3.5.2"
  }
 },
 "nbformat": 4,
 "nbformat_minor": 2
}
