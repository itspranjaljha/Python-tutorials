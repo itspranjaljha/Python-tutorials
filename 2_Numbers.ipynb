{
 "cells": [
  {
   "cell_type": "markdown",
   "metadata": {},
   "source": [
    "# Number"
   ]
  },
  {
   "cell_type": "code",
   "execution_count": null,
   "metadata": {},
   "outputs": [],
   "source": [
    ">>>3 + 4\n",
    "7\n",
    "\n",
    ">>> 3 * 20\n",
    "60\n",
    "\n",
    ">>> 12 / 4\n",
    "3.0\n",
    "\n",
    ">>> 8 + 2 * 10\n",
    "28\n",
    "\n",
    ">>> (8 + 2) * 10\n",
    "100\n",
    "\n",
    ">>> 18 / 4\n",
    "4.5\n",
    "\n",
    ">>> 18//4\n",
    "4\n",
    "\n",
    ">>> 18%4\n",
    "2\n",
    "\n",
    ">>> 5 * 5 * 5\n",
    "125\n",
    "\n",
    ">>> 5 ** 3\n",
    "125\n",
    "\n",
    ">>> pranjal = 5\n",
    ">>> 20 + amit\n",
    "25\n",
    "\n",
    ">>> pranjal = 18\n",
    ">>> pranjal / amit\n",
    "3.6"
   ]
  },
  {
   "cell_type": "markdown",
   "metadata": {},
   "source": []
  }
 ],
 "metadata": {
  "kernelspec": {
   "display_name": "Python 3",
   "language": "python",
   "name": "python3"
  },
  "language_info": {
   "codemirror_mode": {
    "name": "ipython",
    "version": 3
   },
   "file_extension": ".py",
   "mimetype": "text/x-python",
   "name": "python",
   "nbconvert_exporter": "python",
   "pygments_lexer": "ipython3",
   "version": "3.5.2"
  }
 },
 "nbformat": 4,
 "nbformat_minor": 2
}
