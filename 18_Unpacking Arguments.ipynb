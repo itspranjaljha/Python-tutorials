{
 "cells": [
  {
   "cell_type": "code",
   "execution_count": 1,
   "metadata": {},
   "outputs": [
    {
     "name": "stdout",
     "output_type": "stream",
     "text": [
      "143.0\n",
      "143.0\n"
     ]
    }
   ],
   "source": [
    "def health_calculator(age, apples_ate, cigs_smoked):\n",
    "  answer = (100-age) + (apples_ate*3.5) - (cigs_smoked*2)\n",
    "  print(answer)\n",
    "\n",
    "buckys_data = [27, 20, 0]\n",
    "\n",
    "health_calculator(buckys_data[0], buckys_data[1], buckys_data[2])\n",
    "health_calculator(*buckys_data)"
   ]
  },
  {
   "cell_type": "code",
   "execution_count": null,
   "metadata": {},
   "outputs": [],
   "source": []
  }
 ],
 "metadata": {
  "kernelspec": {
   "display_name": "Python 3",
   "language": "python",
   "name": "python3"
  },
  "language_info": {
   "codemirror_mode": {
    "name": "ipython",
    "version": 3
   },
   "file_extension": ".py",
   "mimetype": "text/x-python",
   "name": "python",
   "nbconvert_exporter": "python",
   "pygments_lexer": "ipython3",
   "version": "3.5.2"
  }
 },
 "nbformat": 4,
 "nbformat_minor": 2
}
